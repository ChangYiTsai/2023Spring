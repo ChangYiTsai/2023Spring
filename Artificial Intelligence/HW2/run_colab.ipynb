{
  "cells": [
    {
      "cell_type": "markdown",
      "metadata": {
        "id": "Rp4sSROhupig"
      },
      "source": [
        "This is an example of how to run on Colab. You can edit this file in anyway you want."
      ]
    },
    {
      "cell_type": "code",
      "execution_count": 1,
      "metadata": {
        "colab": {
          "base_uri": "https://localhost:8080/"
        },
        "id": "eVIlLeHyupij",
        "outputId": "de513903-acbb-4e73-b470-e3a6840f2fcc"
      },
      "outputs": [
        {
          "output_type": "stream",
          "name": "stdout",
          "text": [
            "Mounted at /content/gdrive\n"
          ]
        }
      ],
      "source": [
        "from google.colab import drive\n",
        "from google.colab.patches import cv2_imshow\n",
        "drive.mount('/content/gdrive')"
      ]
    },
    {
      "cell_type": "code",
      "execution_count": 2,
      "metadata": {
        "colab": {
          "base_uri": "https://localhost:8080/"
        },
        "id": "vbPcdIEBupik",
        "outputId": "ff00b1ee-e7dc-4ca7-fec3-1f1572ec3316"
      },
      "outputs": [
        {
          "output_type": "stream",
          "name": "stdout",
          "text": [
            "Requirement already satisfied: transformers in /usr/local/lib/python3.10/dist-packages (4.38.2)\n",
            "Requirement already satisfied: filelock in /usr/local/lib/python3.10/dist-packages (from transformers) (3.13.4)\n",
            "Requirement already satisfied: huggingface-hub<1.0,>=0.19.3 in /usr/local/lib/python3.10/dist-packages (from transformers) (0.20.3)\n",
            "Requirement already satisfied: numpy>=1.17 in /usr/local/lib/python3.10/dist-packages (from transformers) (1.25.2)\n",
            "Requirement already satisfied: packaging>=20.0 in /usr/local/lib/python3.10/dist-packages (from transformers) (24.0)\n",
            "Requirement already satisfied: pyyaml>=5.1 in /usr/local/lib/python3.10/dist-packages (from transformers) (6.0.1)\n",
            "Requirement already satisfied: regex!=2019.12.17 in /usr/local/lib/python3.10/dist-packages (from transformers) (2023.12.25)\n",
            "Requirement already satisfied: requests in /usr/local/lib/python3.10/dist-packages (from transformers) (2.31.0)\n",
            "Requirement already satisfied: tokenizers<0.19,>=0.14 in /usr/local/lib/python3.10/dist-packages (from transformers) (0.15.2)\n",
            "Requirement already satisfied: safetensors>=0.4.1 in /usr/local/lib/python3.10/dist-packages (from transformers) (0.4.2)\n",
            "Requirement already satisfied: tqdm>=4.27 in /usr/local/lib/python3.10/dist-packages (from transformers) (4.66.2)\n",
            "Requirement already satisfied: fsspec>=2023.5.0 in /usr/local/lib/python3.10/dist-packages (from huggingface-hub<1.0,>=0.19.3->transformers) (2023.6.0)\n",
            "Requirement already satisfied: typing-extensions>=3.7.4.3 in /usr/local/lib/python3.10/dist-packages (from huggingface-hub<1.0,>=0.19.3->transformers) (4.11.0)\n",
            "Requirement already satisfied: charset-normalizer<4,>=2 in /usr/local/lib/python3.10/dist-packages (from requests->transformers) (3.3.2)\n",
            "Requirement already satisfied: idna<4,>=2.5 in /usr/local/lib/python3.10/dist-packages (from requests->transformers) (3.6)\n",
            "Requirement already satisfied: urllib3<3,>=1.21.1 in /usr/local/lib/python3.10/dist-packages (from requests->transformers) (2.0.7)\n",
            "Requirement already satisfied: certifi>=2017.4.17 in /usr/local/lib/python3.10/dist-packages (from requests->transformers) (2024.2.2)\n"
          ]
        }
      ],
      "source": [
        "!pip install transformers"
      ]
    },
    {
      "cell_type": "code",
      "execution_count": 3,
      "metadata": {
        "colab": {
          "base_uri": "https://localhost:8080/"
        },
        "id": "sMKz9LrnbTD6",
        "outputId": "77d307fe-3b6d-4fbd-8834-3970e9f12906"
      },
      "outputs": [
        {
          "output_type": "stream",
          "name": "stdout",
          "text": [
            "/content/gdrive/MyDrive/Colab_Notebooks/Intro_to_AI/HW2/for_students/for_students\n"
          ]
        }
      ],
      "source": [
        "%cd /content/gdrive/MyDrive/Colab_Notebooks/Intro_to_AI/HW2/for_students/for_students"
      ]
    },
    {
      "cell_type": "markdown",
      "source": [
        "#ngram"
      ],
      "metadata": {
        "id": "OO5opoNMQaKY"
      }
    },
    {
      "cell_type": "markdown",
      "source": [
        "part1"
      ],
      "metadata": {
        "id": "Hbvqkt4URSTm"
      }
    },
    {
      "cell_type": "markdown",
      "source": [
        "no preprocess"
      ],
      "metadata": {
        "id": "uG8IqeOH3YR7"
      }
    },
    {
      "cell_type": "code",
      "source": [
        "!python main.py --model_type ngram --preprocess 0 --part 1"
      ],
      "metadata": {
        "colab": {
          "base_uri": "https://localhost:8080/"
        },
        "id": "8bCYII6rQj2N",
        "outputId": "f185e237-61c1-4bc6-e35b-9d49f9bb6e4b"
      },
      "execution_count": 4,
      "outputs": [
        {
          "output_type": "stream",
          "name": "stdout",
          "text": [
            "[nltk_data] Downloading package stopwords to /root/nltk_data...\n",
            "[nltk_data]   Unzipping corpora/stopwords.zip.\n",
            "Perplexity of ngram: 116.26046015880357\n"
          ]
        }
      ]
    },
    {
      "cell_type": "markdown",
      "source": [
        "stopwords preprocess"
      ],
      "metadata": {
        "id": "vtuDycCH3UsD"
      }
    },
    {
      "cell_type": "code",
      "source": [
        "!python main.py --model_type ngram --preprocess 1 --part 1"
      ],
      "metadata": {
        "id": "bd43ScbGQrRk",
        "colab": {
          "base_uri": "https://localhost:8080/"
        },
        "outputId": "ca6ae400-4e3d-4ddf-8c6b-518247d33b5e"
      },
      "execution_count": 5,
      "outputs": [
        {
          "output_type": "stream",
          "name": "stdout",
          "text": [
            "[nltk_data] Downloading package stopwords to /root/nltk_data...\n",
            "[nltk_data]   Package stopwords is already up-to-date!\n",
            "Perplexity of ngram: 195.43245350997685\n"
          ]
        }
      ]
    },
    {
      "cell_type": "markdown",
      "source": [
        "self-defined preprocessing"
      ],
      "metadata": {
        "id": "pnsRcHgy2Q-Z"
      }
    },
    {
      "cell_type": "code",
      "source": [
        "!python main.py --model_type ngram --preprocess 1 --part 1"
      ],
      "metadata": {
        "colab": {
          "base_uri": "https://localhost:8080/"
        },
        "id": "8-lJLm_V2LAr",
        "outputId": "eea0efb5-dccf-4223-cf82-1f4d6f964045"
      },
      "execution_count": 15,
      "outputs": [
        {
          "output_type": "stream",
          "name": "stdout",
          "text": [
            "[nltk_data] Downloading package stopwords to /root/nltk_data...\n",
            "[nltk_data]   Package stopwords is already up-to-date!\n",
            "Perplexity of ngram: 287.969491755301\n"
          ]
        }
      ]
    },
    {
      "cell_type": "markdown",
      "source": [
        "part2 remove stopword"
      ],
      "metadata": {
        "id": "1m3cNElsRT1p"
      }
    },
    {
      "cell_type": "code",
      "source": [
        "!python main.py --model_type ngram --preprocess 1 --part 2"
      ],
      "metadata": {
        "colab": {
          "base_uri": "https://localhost:8080/"
        },
        "id": "IpqeFxQAAW_3",
        "outputId": "4f8052d7-397b-480c-b1a1-730a215da68a"
      },
      "execution_count": 13,
      "outputs": [
        {
          "output_type": "stream",
          "name": "stdout",
          "text": [
            "[nltk_data] Downloading package stopwords to /root/nltk_data...\n",
            "[nltk_data]   Package stopwords is already up-to-date!\n",
            "Perplexity of ngram: 195.43245350997685\n",
            "F1 score: 0.6769, Precision: 0.6926, Recall: 0.6815\n"
          ]
        }
      ]
    },
    {
      "cell_type": "markdown",
      "source": [
        "part 2 no preprocessing"
      ],
      "metadata": {
        "id": "o3lR8u3bphJi"
      }
    },
    {
      "cell_type": "code",
      "source": [
        "!python main.py --model_type ngram --preprocess 0 --part 2"
      ],
      "metadata": {
        "colab": {
          "base_uri": "https://localhost:8080/"
        },
        "id": "dPnzia1Pn4zr",
        "outputId": "4fff89a0-3b19-4603-8038-a4a62f1fc230"
      },
      "execution_count": 14,
      "outputs": [
        {
          "output_type": "stream",
          "name": "stdout",
          "text": [
            "[nltk_data] Downloading package stopwords to /root/nltk_data...\n",
            "[nltk_data]   Package stopwords is already up-to-date!\n",
            "Perplexity of ngram: 116.26046015880357\n",
            "F1 score: 0.7057, Precision: 0.7088, Recall: 0.7065\n"
          ]
        }
      ]
    },
    {
      "cell_type": "markdown",
      "source": [
        "part 2 use self-defined preprocess method(remove punctuation and convert to lowercase)"
      ],
      "metadata": {
        "id": "AK5iV_cLpJRg"
      }
    },
    {
      "cell_type": "code",
      "source": [
        "!python main.py --model_type ngram --preprocess 1 --part 2"
      ],
      "metadata": {
        "colab": {
          "base_uri": "https://localhost:8080/"
        },
        "id": "iaxSmHCJpPTn",
        "outputId": "760d3533-45bf-4be7-e4df-106d237c2d00"
      },
      "execution_count": 8,
      "outputs": [
        {
          "output_type": "stream",
          "name": "stdout",
          "text": [
            "[nltk_data] Downloading package stopwords to /root/nltk_data...\n",
            "[nltk_data]   Package stopwords is already up-to-date!\n",
            "Perplexity of ngram: 142.95507736084807\n",
            "F1 score: 0.7113, Precision: 0.7146, Recall: 0.7121\n"
          ]
        }
      ]
    },
    {
      "cell_type": "markdown",
      "source": [
        "part 2 use self-defined preprocess method(remove stopwords, punctuation, convert to lowercase +stemming)"
      ],
      "metadata": {
        "id": "YsJrdo6cpbCI"
      }
    },
    {
      "cell_type": "code",
      "source": [
        "!python main.py --model_type ngram --preprocess 1 --part 2"
      ],
      "metadata": {
        "colab": {
          "base_uri": "https://localhost:8080/"
        },
        "id": "U0LNl-XFpprE",
        "outputId": "1ccd1401-b07e-4e1e-9cbc-13bbcca64d97"
      },
      "execution_count": 10,
      "outputs": [
        {
          "output_type": "stream",
          "name": "stdout",
          "text": [
            "[nltk_data] Downloading package stopwords to /root/nltk_data...\n",
            "[nltk_data]   Package stopwords is already up-to-date!\n",
            "Perplexity of ngram: 287.969491755301\n",
            "F1 score: 0.7015, Precision: 0.7117, Recall: 0.7042\n"
          ]
        }
      ]
    },
    {
      "cell_type": "markdown",
      "source": [
        "BERT"
      ],
      "metadata": {
        "id": "fuCFaqKoQcfW"
      }
    },
    {
      "cell_type": "code",
      "execution_count": null,
      "metadata": {
        "colab": {
          "base_uri": "https://localhost:8080/"
        },
        "id": "EHKWbeD9upik",
        "outputId": "d68b8e5b-0872-494a-e664-7d1aabad6355"
      },
      "outputs": [
        {
          "output_type": "stream",
          "name": "stdout",
          "text": [
            "[nltk_data] Downloading package stopwords to /root/nltk_data...\n",
            "[nltk_data]   Unzipping corpora/stopwords.zip.\n",
            "tokenizer_config.json: 100% 28.0/28.0 [00:00<00:00, 161kB/s]\n",
            "config.json: 100% 483/483 [00:00<00:00, 3.31MB/s]\n",
            "vocab.txt: 100% 232k/232k [00:00<00:00, 6.85MB/s]\n",
            "tokenizer.json: 100% 466k/466k [00:00<00:00, 23.1MB/s]\n",
            "model.safetensors: 100% 268M/268M [00:01<00:00, 221MB/s]\n",
            "Epoch: 0, F1 score: 0.9316, Precision: 0.9327, Recall: 0.9316, Loss: 0.23\n"
          ]
        }
      ],
      "source": [
        "!python /content/gdrive/MyDrive/Colab_Notebooks/Intro_to_AI/HW2/for_students/for_students/main.py --model_type BERT --preprocess 0 --part 2\n"
      ]
    },
    {
      "cell_type": "code",
      "execution_count": null,
      "metadata": {
        "id": "bgJXcQL_upik",
        "colab": {
          "base_uri": "https://localhost:8080/"
        },
        "outputId": "998c6e99-7d31-4d06-8f18-66d63ba8e38d"
      },
      "outputs": [
        {
          "output_type": "stream",
          "name": "stdout",
          "text": [
            "[nltk_data] Downloading package stopwords to /root/nltk_data...\n",
            "[nltk_data]   Package stopwords is already up-to-date!\n",
            "Epoch: 0, F1 score: 0.9275, Precision: 0.9275, Recall: 0.9275, Loss: 0.2657\n"
          ]
        }
      ],
      "source": [
        "!python main.py --model_type BERT --preprocess 1 --part 2"
      ]
    },
    {
      "cell_type": "code",
      "source": [
        "!python main.py --model_type RNN --preprocess 0 --part 2\n"
      ],
      "metadata": {
        "colab": {
          "base_uri": "https://localhost:8080/"
        },
        "id": "IX3iYdQ5qRaZ",
        "outputId": "df331a66-90df-48a2-b878-1fe1b572dba2"
      },
      "execution_count": null,
      "outputs": [
        {
          "output_type": "stream",
          "name": "stdout",
          "text": [
            "[nltk_data] Downloading package stopwords to /root/nltk_data...\n",
            "[nltk_data]   Package stopwords is already up-to-date!\n",
            "Epoch: 0, F1 score: 0.3558, Precision: 0.5588, Recall: 0.5045, Loss: 3.8951\n",
            "Epoch: 1, F1 score: 0.4477, Precision: 0.5485, Recall: 0.5223, Loss: 3.8805\n",
            "Epoch: 2, F1 score: 0.509, Precision: 0.531, Recall: 0.5266, Loss: 3.8843\n",
            "Epoch: 3, F1 score: 0.4001, Precision: 0.5069, Recall: 0.5022, Loss: 3.8823\n",
            "\n"
          ]
        }
      ]
    },
    {
      "cell_type": "code",
      "source": [
        "!python main.py --model_type RNN --preprocess 1 --part 2"
      ],
      "metadata": {
        "colab": {
          "base_uri": "https://localhost:8080/"
        },
        "id": "nfErViTcqWBa",
        "outputId": "4f306d9b-f611-4e49-8e24-7650a755f811"
      },
      "execution_count": null,
      "outputs": [
        {
          "output_type": "stream",
          "name": "stdout",
          "text": [
            "[nltk_data] Downloading package stopwords to /root/nltk_data...\n",
            "[nltk_data]   Package stopwords is already up-to-date!\n",
            "Model: RNN, Preprocessed: 1\n",
            "F1 score: 0.8911, Precision: 0.8915, Recall: 0.8911, Loss: 0.1939\n"
          ]
        }
      ]
    },
    {
      "cell_type": "markdown",
      "source": [
        "Learning curve"
      ],
      "metadata": {
        "id": "PeC9Zrkww1NL"
      }
    },
    {
      "cell_type": "code",
      "source": [
        "%matplotlib inline\n"
      ],
      "metadata": {
        "id": "itUIJOIU5Nqr"
      },
      "execution_count": null,
      "outputs": []
    },
    {
      "cell_type": "code",
      "source": [
        "!python main.py --model_type RNN --preprocess 1 --part 2"
      ],
      "metadata": {
        "colab": {
          "base_uri": "https://localhost:8080/"
        },
        "id": "29KJbdxjwwOn",
        "outputId": "f9a015f5-54ff-4cd3-f02a-de342a1e21c1"
      },
      "execution_count": null,
      "outputs": [
        {
          "output_type": "stream",
          "name": "stdout",
          "text": [
            "[nltk_data] Downloading package stopwords to /root/nltk_data...\n",
            "[nltk_data]   Package stopwords is already up-to-date!\n",
            "Figure(640x480)\n"
          ]
        }
      ]
    }
  ],
  "metadata": {
    "colab": {
      "provenance": [],
      "gpuType": "V100"
    },
    "kernelspec": {
      "display_name": "Python 3",
      "name": "python3"
    },
    "language_info": {
      "name": "python"
    },
    "accelerator": "GPU"
  },
  "nbformat": 4,
  "nbformat_minor": 0
}